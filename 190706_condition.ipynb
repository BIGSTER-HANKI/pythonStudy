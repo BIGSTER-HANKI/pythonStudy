{
 "cells": [
  {
   "cell_type": "markdown",
   "metadata": {},
   "source": [
    "#조건식을 활용한 문법 학습"
   ]
  },
  {
   "cell_type": "markdown",
   "metadata": {},
   "source": [
    "'''\n",
    "list에 데이터 넣고, for 문과 if 조건식등도 활용\n",
    "합집합,교집합등의 코딩연습\n",
    "파이썬(python) 함ㅅ ㅜ개발 및\n",
    "'''"
   ]
  },
  {
   "cell_type": "code",
   "execution_count": 27,
   "metadata": {},
   "outputs": [],
   "source": [
    "list = [1,2,3,4]"
   ]
  },
  {
   "cell_type": "code",
   "execution_count": 48,
   "metadata": {},
   "outputs": [
    {
     "name": "stdout",
     "output_type": "stream",
     "text": [
      "2\n"
     ]
    }
   ],
   "source": [
    "dataView(list)"
   ]
  },
  {
   "cell_type": "code",
   "execution_count": 32,
   "metadata": {},
   "outputs": [],
   "source": [
    "def dataView():\n",
    "    for v in list:\n",
    "        print(v)"
   ]
  },
  {
   "cell_type": "code",
   "execution_count": 47,
   "metadata": {},
   "outputs": [],
   "source": [
    "# 2만 출력되게 반영하기\n",
    "# if 문장 == 비교연산자 필수\n",
    "def dataView(data):\n",
    "     for v in data:\n",
    "        if v == 2:\n",
    "            print(v)\n",
    "        "
   ]
  },
  {
   "cell_type": "code",
   "execution_count": 58,
   "metadata": {},
   "outputs": [],
   "source": [
    "'''\n",
    "문제:\n",
    "    v1에는 숫자 3개\n",
    "    v2에는 숫자 3개\n",
    "    v1과 v2를 더해서 출력해보기\n",
    "'''\n",
    "v1 = [1,2,3]\n",
    "v2 = [4,5,6]\n"
   ]
  },
  {
   "cell_type": "code",
   "execution_count": 66,
   "metadata": {},
   "outputs": [
    {
     "name": "stdout",
     "output_type": "stream",
     "text": [
      "<function v3 at 0x00000280DDF77488>\n"
     ]
    }
   ],
   "source": [
    "def v3(data, data2):\n",
    "    data+data2\n",
    "    print(v3)\n",
    "v3(v1,v2)"
   ]
  },
  {
   "cell_type": "code",
   "execution_count": 76,
   "metadata": {},
   "outputs": [],
   "source": [
    "v1 = [1,2,3, 1]\n",
    "new_v1 = [] #빈 리스트"
   ]
  },
  {
   "cell_type": "code",
   "execution_count": 81,
   "metadata": {},
   "outputs": [
    {
     "name": "stdout",
     "output_type": "stream",
     "text": [
      "[1, 2, 3]\n"
     ]
    }
   ],
   "source": [
    "for i in v1:\n",
    "    if i not in new_v1:\n",
    "        new_v1.append(i)\n",
    "print(new_v1)"
   ]
  },
  {
   "cell_type": "code",
   "execution_count": 121,
   "metadata": {},
   "outputs": [],
   "source": [
    "#교집합 구현하기\n",
    "v1 = [1, 2, 4, 3]\n",
    "v2 = [3, 4, 5, 6]\n",
    "vTotal = []"
   ]
  },
  {
   "cell_type": "code",
   "execution_count": 158,
   "metadata": {},
   "outputs": [],
   "source": [
    "def intersection():\n",
    "    for i in v1:\n",
    "        if i in v2:\n",
    "            print(i)"
   ]
  },
  {
   "cell_type": "code",
   "execution_count": 160,
   "metadata": {},
   "outputs": [
    {
     "name": "stdout",
     "output_type": "stream",
     "text": [
      "3\n",
      "4\n"
     ]
    }
   ],
   "source": [
    "intersection()"
   ]
  }
 ],
 "metadata": {
  "kernelspec": {
   "display_name": "Python 3",
   "language": "python",
   "name": "python3"
  },
  "language_info": {
   "codemirror_mode": {
    "name": "ipython",
    "version": 3
   },
   "file_extension": ".py",
   "mimetype": "text/x-python",
   "name": "python",
   "nbconvert_exporter": "python",
   "pygments_lexer": "ipython3",
   "version": "3.7.1"
  }
 },
 "nbformat": 4,
 "nbformat_minor": 2
}
