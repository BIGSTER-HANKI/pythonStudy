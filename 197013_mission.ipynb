{
 "cells": [
  {
   "cell_type": "code",
   "execution_count": 19,
   "metadata": {},
   "outputs": [
    {
     "name": "stdout",
     "output_type": "stream",
     "text": [
      "100112100102"
     ]
    }
   ],
   "source": [
    "EnglishList = {'a':\"0\", 'b':\"1\", 'c':\"10\", 'd':\"11\", 'e':\"100\", 'f':\"101\", 'g':\"110\", 'h':\"111\", 'i':\"1000\", 'j':\"1001\", 'k':\"1010\", 'l':\"1011\", 'm':\"1100\", 'n':\"1101\", 'o':\"1110\", 'p':\"1111\", 'q':\"10000\", 'r':\"10001\", 's':\"10010\", 't':\"10011\", 'u':\"10100\", 'v':\"10101\", 'w':\"10110\", 'y':\"11000\", 'z':\"11001\",' ':\"11010\"}\n",
    "sendList=[\"t\",\"s\"]\n",
    "middle=[]\n",
    "for x in sendList:\n",
    "    middle=EnglishList[x]+\"2\"\n",
    "    print(middle,end='')\n",
    "    \n",
    "    \n",
    "    \n",
    "    \n",
    "    \n",
    "    \n",
    "    \n",
    "    \n",
    "    \n",
    "    \n",
    "    \n",
    "\n",
    "resiveList=[]"
   ]
  }
 ],
 "metadata": {
  "kernelspec": {
   "display_name": "Python 3",
   "language": "python",
   "name": "python3"
  },
  "language_info": {
   "codemirror_mode": {
    "name": "ipython",
    "version": 3
   },
   "file_extension": ".py",
   "mimetype": "text/x-python",
   "name": "python",
   "nbconvert_exporter": "python",
   "pygments_lexer": "ipython3",
   "version": "3.7.1"
  }
 },
 "nbformat": 4,
 "nbformat_minor": 2
}
