{
 "cells": [
  {
   "cell_type": "markdown",
   "metadata": {},
   "source": [
    "## 함수 구연 및 호출과 markdown 문서 작업 연습"
   ]
  },
  {
   "cell_type": "markdown",
   "metadata": {},
   "source": [
    "'''\n",
    "*표현식\n",
    "1. 따옴표3개\n",
    "python언어의 여러 라인 표현\n",
    "다중 라인 문지열 표현하는 주석\n",
    "2. makedown 표기\n",
    "    - 모든 언어의 문서화 작업시 사용되는 표기법\n",
    "    - 다양한 표기법\n",
    "        1. #\n",
    "        2.`\n",
    "        3. 숫자\n",
    "        4.-\n",
    "        5.문구\n",
    "'''"
   ]
  },
  {
   "cell_type": "code",
   "execution_count": 14,
   "metadata": {},
   "outputs": [],
   "source": [
    "# 함수 구현 - 두개의 숫자를 받아서 합을 구한후 호출한 곳으로 리턴하기\n",
    "def sum(argument1, argument2):\n",
    "    return argument1 + argument2"
   ]
  },
  {
   "cell_type": "code",
   "execution_count": 24,
   "metadata": {},
   "outputs": [
    {
     "name": "stdout",
     "output_type": "stream",
     "text": [
      "30\n"
     ]
    }
   ],
   "source": [
    "\n",
    "data = sum(10, 20)\n",
    "print(data) #30"
   ]
  },
  {
   "cell_type": "code",
   "execution_count": 26,
   "metadata": {},
   "outputs": [],
   "source": [
    "def sum(v1, v2, v3):\n",
    "    return v1 + v2 + v3"
   ]
  },
  {
   "cell_type": "code",
   "execution_count": 29,
   "metadata": {},
   "outputs": [
    {
     "name": "stdout",
     "output_type": "stream",
     "text": [
      "60\n"
     ]
    }
   ],
   "source": [
    "\n",
    "data = sum(10, 20, 30)\n",
    "print(data) #30"
   ]
  },
  {
   "cell_type": "code",
   "execution_count": 32,
   "metadata": {},
   "outputs": [
    {
     "name": "stdout",
     "output_type": "stream",
     "text": [
      "60\n"
     ]
    }
   ],
   "source": [
    "print(sum(10, 20, 30))"
   ]
  },
  {
   "cell_type": "code",
   "execution_count": 110,
   "metadata": {},
   "outputs": [],
   "source": [
    "# parameter로 받은 데이터에 선생님인 경우엔 잔인자 라고 출력\n",
    "# 학생인 경우 고수라고 출력\n",
    "def checkdata(v):\n",
    "    if v == \"선생님\":\n",
    "        print('잔인자')\n",
    "    elif v == \"학생\":\n",
    "        print('고수')\n",
    "    else:\n",
    "        print('?')"
   ]
  },
  {
   "cell_type": "code",
   "execution_count": 117,
   "metadata": {},
   "outputs": [
    {
     "name": "stdout",
     "output_type": "stream",
     "text": [
      "잔인자\n",
      "고수\n",
      "?\n"
     ]
    }
   ],
   "source": [
    "checkdata(\"선생님\")\n",
    "checkdata(\"학생\")\n",
    "checkdata(\"dwdw\")"
   ]
  },
  {
   "cell_type": "code",
   "execution_count": 123,
   "metadata": {},
   "outputs": [
    {
     "name": "stdout",
     "output_type": "stream",
     "text": [
      "range(1, 5)\n"
     ]
    }
   ],
   "source": [
    "'''\n",
    "1. 사용자 정의 함수 구현 문법\n",
    "-사용자 정의: python언어를 통해서 개발자가 직접 만든것들을 의미\n",
    "2. python 자체가 제공하는 내장 함수 활용\n",
    "'''\n",
    "# 2-1. 연속된 수를 표현하는 함수: range()\n",
    "v = range(1,5)\n",
    "print(v)"
   ]
  },
  {
   "cell_type": "code",
   "execution_count": 125,
   "metadata": {},
   "outputs": [
    {
     "name": "stdout",
     "output_type": "stream",
     "text": [
      "1\n",
      "2\n",
      "3\n",
      "4\n"
     ]
    }
   ],
   "source": [
    "for i in v:\n",
    "    print(i)"
   ]
  },
  {
   "cell_type": "code",
   "execution_count": 127,
   "metadata": {},
   "outputs": [
    {
     "data": {
      "text/plain": [
       "['친', '구', '들']"
      ]
     },
     "execution_count": 127,
     "metadata": {},
     "output_type": "execute_result"
    }
   ],
   "source": [
    "# 데이터를 출력시에 index(슷자료 표현하는 순서)가 적용되서 순서에 맞는 숫자값도 출력\n",
    "list = ['친', '구','들']\n",
    "list"
   ]
  },
  {
   "cell_type": "code",
   "execution_count": 146,
   "metadata": {},
   "outputs": [
    {
     "data": {
      "text/plain": [
       "<enumerate at 0x232eb34a1b0>"
      ]
     },
     "execution_count": 146,
     "metadata": {},
     "output_type": "execute_result"
    }
   ],
   "source": [
    "v = enumerate(list)\n",
    "v"
   ]
  },
  {
   "cell_type": "code",
   "execution_count": 148,
   "metadata": {},
   "outputs": [],
   "source": [
    "for index, value in v:\n",
    "    print(index, value)"
   ]
  },
  {
   "cell_type": "code",
   "execution_count": 164,
   "metadata": {},
   "outputs": [
    {
     "name": "stdout",
     "output_type": "stream",
     "text": [
      "0 1\n",
      "1 2\n",
      "2 3\n",
      "3 4\n",
      "4 5\n",
      "5 6\n",
      "6 7\n",
      "7 8\n",
      "8 9\n",
      "9 10\n"
     ]
    }
   ],
   "source": [
    "'''\n",
    "range()와 enumerate() 함술르 조합해서 데이터는 자유롭게\n",
    "작업후에 결과값 출력하기\n",
    "'''\n",
    "data = range(1, 11)\n",
    "data2 = enumerate(data)\n",
    "for idx, val in data2:\n",
    "    print(idx, val)"
   ]
  }
 ],
 "metadata": {
  "kernelspec": {
   "display_name": "Python 3",
   "language": "python",
   "name": "python3"
  },
  "language_info": {
   "codemirror_mode": {
    "name": "ipython",
    "version": 3
   },
   "file_extension": ".py",
   "mimetype": "text/x-python",
   "name": "python",
   "nbconvert_exporter": "python",
   "pygments_lexer": "ipython3",
   "version": "3.7.1"
  }
 },
 "nbformat": 4,
 "nbformat_minor": 2
}
