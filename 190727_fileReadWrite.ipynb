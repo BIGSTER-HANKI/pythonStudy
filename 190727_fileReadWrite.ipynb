{
 "cells": [
  {
   "cell_type": "code",
   "execution_count": 239,
   "metadata": {},
   "outputs": [
    {
     "data": {
      "text/plain": [
       "76"
      ]
     },
     "execution_count": 239,
     "metadata": {},
     "output_type": "execute_result"
    }
   ],
   "source": [
    "file = open(\"빅별노트북.txt\", \"w\", encoding=\"UTF-8\")\n",
    "file.write('cpu: i5-7600HQ M/B: 정보없음 ram: 8GB ssd/HDD: 1TB Grapic Card: Geforce GTX 1050')\n"
   ]
  },
  {
   "cell_type": "code",
   "execution_count": 215,
   "metadata": {},
   "outputs": [],
   "source": [
    "#이미 존재하는 read하는 프로그램\n",
    "file = open(\"data.txt\", \"r\", encoding=\"UTF-8\")"
   ]
  },
  {
   "cell_type": "code",
   "execution_count": 217,
   "metadata": {},
   "outputs": [
    {
     "name": "stdout",
     "output_type": "stream",
     "text": [
      "\n"
     ]
    }
   ],
   "source": [
    "print(file.read())\n",
    "file.close()"
   ]
  },
  {
   "cell_type": "code",
   "execution_count": 222,
   "metadata": {},
   "outputs": [],
   "source": [
    "def userReadFile(rfile):\n",
    "    file = open(rfile, \"r\", encoding=\"UTF-8\")\n",
    "    print(file.read())\n",
    "    file.close()"
   ]
  },
  {
   "cell_type": "code",
   "execution_count": 226,
   "metadata": {},
   "outputs": [
    {
     "name": "stdout",
     "output_type": "stream",
     "text": [
      "﻿사람인, 미국인, 외국인, 한국인 \n",
      "dkwjrdkam\n"
     ]
    }
   ],
   "source": [
    "userReadFile(\"data.txt\")"
   ]
  },
  {
   "cell_type": "code",
   "execution_count": 227,
   "metadata": {},
   "outputs": [],
   "source": [
    "data = \"한기가,오늘은,안오러했는데,오느릉ㄴ,어찌나 당황스럽던지?\""
   ]
  },
  {
   "cell_type": "code",
   "execution_count": 467,
   "metadata": {},
   "outputs": [
    {
     "ename": "TypeError",
     "evalue": "argument should be integer or None, not 'str'",
     "output_type": "error",
     "traceback": [
      "\u001b[1;31m---------------------------------------------------------------------------\u001b[0m",
      "\u001b[1;31mTypeError\u001b[0m                                 Traceback (most recent call last)",
      "\u001b[1;32m<ipython-input-467-b3cff2c83616>\u001b[0m in \u001b[0;36m<module>\u001b[1;34m\u001b[0m\n\u001b[0;32m      1\u001b[0m \u001b[1;31m#일반 파이썬 변수값으로 data5.txt 파일을 생성 및 출력\u001b[0m\u001b[1;33m\u001b[0m\u001b[1;33m\u001b[0m\u001b[1;33m\u001b[0m\u001b[0m\n\u001b[0;32m      2\u001b[0m \u001b[0mf\u001b[0m \u001b[1;33m=\u001b[0m \u001b[0mopen\u001b[0m\u001b[1;33m(\u001b[0m\u001b[1;34m\"data5.txt\"\u001b[0m\u001b[1;33m,\u001b[0m \u001b[1;34m\"r\"\u001b[0m\u001b[1;33m,\u001b[0m \u001b[0mencoding\u001b[0m\u001b[1;33m=\u001b[0m\u001b[1;34m\"UTF-8\"\u001b[0m\u001b[1;33m)\u001b[0m\u001b[1;33m\u001b[0m\u001b[1;33m\u001b[0m\u001b[0m\n\u001b[1;32m----> 3\u001b[1;33m \u001b[0mf\u001b[0m\u001b[1;33m.\u001b[0m\u001b[0mread\u001b[0m\u001b[1;33m(\u001b[0m\u001b[0mdata\u001b[0m\u001b[1;33m)\u001b[0m\u001b[1;33m\u001b[0m\u001b[1;33m\u001b[0m\u001b[0m\n\u001b[0m\u001b[0;32m      4\u001b[0m \u001b[0mf\u001b[0m\u001b[1;33m.\u001b[0m\u001b[0mclose\u001b[0m\u001b[1;33m(\u001b[0m\u001b[1;33m)\u001b[0m\u001b[1;33m\u001b[0m\u001b[1;33m\u001b[0m\u001b[0m\n",
      "\u001b[1;31mTypeError\u001b[0m: argument should be integer or None, not 'str'"
     ]
    }
   ],
   "source": [
    "#일반 파이썬 변수값으로 data5.txt 파일을 생성 및 출력\n",
    "f = open(\"data5.txt\", \"r\", encoding=\"UTF-8\")\n",
    "f.read(data)\n",
    "f.close()"
   ]
  },
  {
   "cell_type": "code",
   "execution_count": 376,
   "metadata": {},
   "outputs": [],
   "source": [
    "#? 파일ㄹ 쓰기 로직을 userFileWriter라는 함수로 개발하기\n",
    "# 호출까지 test 하기\n",
    "def userFileWriter(wfile):\n",
    "    f = open(wfile, \"w\", encoding=\"UTF-8\")\n",
    "    f.write(data)\n",
    "    f.close()"
   ]
  },
  {
   "cell_type": "code",
   "execution_count": 291,
   "metadata": {},
   "outputs": [],
   "source": [
    "f = open(\"data5.txt\", \"w\", encoding=\"UTF-8\")\n",
    "f.write(data)\n",
    "f.close()"
   ]
  },
  {
   "cell_type": "code",
   "execution_count": 383,
   "metadata": {},
   "outputs": [],
   "source": [
    "userFileWriter(\"data3.txt\")"
   ]
  },
  {
   "cell_type": "code",
   "execution_count": 384,
   "metadata": {},
   "outputs": [
    {
     "name": "stdout",
     "output_type": "stream",
     "text": [
      " C 드라이브의 볼륨에는 이름이 없습니다.\n",
      " 볼륨 일련 번호: EA97-42E0\n",
      "\n",
      " C:\\0.sw\\4. jupyter notebook 디렉터리\n",
      "\n",
      "2019-07-27  오후 09:25    <DIR>          .\n",
      "2019-07-27  오후 09:25    <DIR>          ..\n",
      "2019-07-27  오후 08:43    <DIR>          .ipynb_checkpoints\n",
      "2019-05-11  오후 09:53             2,882 190511_basic.ipynb\n",
      "2019-06-01  오후 09:59             3,555 190525_application.ipynb\n",
      "2019-06-08  오후 09:50             2,233 190608_application.ipynb\n",
      "2019-06-15  오후 10:01             1,219 190615.ipynb\n",
      "2019-06-22  오후 10:02             5,693 190622_function.ipynb\n",
      "2019-07-06  오후 09:52             3,616 190706_condition.ipynb\n",
      "2019-07-27  오후 09:25             4,905 190727_fileReadWrite.ipynb\n",
      "2019-07-20  오후 09:52             1,390 197013_mission.ipynb\n",
      "2019-07-27  오후 09:21                 0 data\n",
      "2019-07-27  오후 09:00                57 data.txt\n",
      "2019-07-27  오후 09:25                81 data3.txt\n",
      "2019-07-27  오후 09:25                81 data5.txt\n",
      "2019-07-27  오후 09:11                84 빅별노트북.txt\n",
      "              13개 파일              25,796 바이트\n",
      "               3개 디렉터리  378,002,583,552 바이트 남음\n"
     ]
    }
   ],
   "source": [
    "!dir"
   ]
  },
  {
   "cell_type": "code",
   "execution_count": 506,
   "metadata": {},
   "outputs": [],
   "source": [
    "def userReadFile(rfile):\n",
    "    file = open(rfile, \"r\", encoding=\"UTF-8\")\n",
    "    data = file.read()\n",
    "    file.close()\n",
    "    return data"
   ]
  },
  {
   "cell_type": "code",
   "execution_count": 507,
   "metadata": {},
   "outputs": [
    {
     "name": "stdout",
     "output_type": "stream",
     "text": [
      "dw, dd, dddd\n"
     ]
    }
   ],
   "source": [
    "d = userReadFile(\"dddd.txt\")\n",
    "print(d)"
   ]
  },
  {
   "cell_type": "code",
   "execution_count": 509,
   "metadata": {},
   "outputs": [
    {
     "name": "stdout",
     "output_type": "stream",
     "text": [
      "['dw', 'dd', 'dddd']\n"
     ]
    }
   ],
   "source": [
    "'''\n",
    "d라는 변수의 데이터를 , 를 구분자로 해서 각 데이터를 한 라인씩 출력\n",
    "'''\n",
    "w = d.split(\", \") \n",
    "print(w)"
   ]
  },
  {
   "cell_type": "code",
   "execution_count": 510,
   "metadata": {},
   "outputs": [
    {
     "name": "stdout",
     "output_type": "stream",
     "text": [
      "dw\n",
      "dd\n",
      "dddd\n"
     ]
    }
   ],
   "source": [
    "for v in w:\n",
    "    print(v)"
   ]
  }
 ],
 "metadata": {
  "kernelspec": {
   "display_name": "Python 3",
   "language": "python",
   "name": "python3"
  },
  "language_info": {
   "codemirror_mode": {
    "name": "ipython",
    "version": 3
   },
   "file_extension": ".py",
   "mimetype": "text/x-python",
   "name": "python",
   "nbconvert_exporter": "python",
   "pygments_lexer": "ipython3",
   "version": "3.7.1"
  }
 },
 "nbformat": 4,
 "nbformat_minor": 2
}
