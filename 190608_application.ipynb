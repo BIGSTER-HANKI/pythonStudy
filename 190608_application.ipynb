{
 "cells": [
  {
   "cell_type": "code",
   "execution_count": 99,
   "metadata": {},
   "outputs": [
    {
     "name": "stdout",
     "output_type": "stream",
     "text": [
      "B\n"
     ]
    }
   ],
   "source": [
    "a = 304\n",
    "b = 604\n",
    "\n",
    "\n",
    "if a > b: \n",
    "    print(\"A\") \n",
    "else: \n",
    "    if a == b:\n",
    "        print(\"=\")  \n",
    "   \n",
    "    else:\n",
    "        print(\"B\")"
   ]
  },
  {
   "cell_type": "code",
   "execution_count": 102,
   "metadata": {},
   "outputs": [
    {
     "name": "stdout",
     "output_type": "stream",
     "text": [
      "다르다\n"
     ]
    }
   ],
   "source": [
    "n1 = \"해피맨\"\n",
    "n2 = \"해피걸\"\n",
    "\n",
    "print(\"같다\") if a == b else print(\"다르다\")"
   ]
  },
  {
   "cell_type": "code",
   "execution_count": 285,
   "metadata": {},
   "outputs": [
    {
     "name": "stdout",
     "output_type": "stream",
     "text": [
      "15\n"
     ]
    }
   ],
   "source": [
    "v = [1,2,3,4,5]\n",
    "no = 0\n",
    "for i in v: \n",
    "    no = no + i\n",
    "print(no)"
   ]
  },
  {
   "cell_type": "code",
   "execution_count": 299,
   "metadata": {},
   "outputs": [
    {
     "name": "stdout",
     "output_type": "stream",
     "text": [
      "a  b  c  "
     ]
    }
   ],
   "source": [
    "data = \"abc\"\n",
    "for v in data:\n",
    "    print(v, end=\"  \")"
   ]
  },
  {
   "cell_type": "code",
   "execution_count": 341,
   "metadata": {},
   "outputs": [
    {
     "name": "stdout",
     "output_type": "stream",
     "text": [
      "a   b   c   \n"
     ]
    }
   ],
   "source": [
    "data = \"abc\"\n",
    "data2 = ''\n",
    "for v in data:\n",
    "    data2 = data2 + v + '   '\n",
    "print(data2)"
   ]
  }
 ],
 "metadata": {
  "kernelspec": {
   "display_name": "Python 3",
   "language": "python",
   "name": "python3"
  },
  "language_info": {
   "codemirror_mode": {
    "name": "ipython",
    "version": 3
   },
   "file_extension": ".py",
   "mimetype": "text/x-python",
   "name": "python",
   "nbconvert_exporter": "python",
   "pygments_lexer": "ipython3",
   "version": "3.7.1"
  }
 },
 "nbformat": 4,
 "nbformat_minor": 2
}
