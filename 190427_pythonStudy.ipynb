{
 "cells": [
  {
   "cell_type": "markdown",
   "metadata": {},
   "source": [
    "### 내 친구 이름들을 python의 set 타입으로 개발해보기"
   ]
  },
  {
   "cell_type": "code",
   "execution_count": 13,
   "metadata": {},
   "outputs": [
    {
     "name": "stdout",
     "output_type": "stream",
     "text": [
      "이지빈\n"
     ]
    },
    {
     "data": {
      "text/plain": [
       "'\\n왜? 이 코드가 에러가 나는가?\\n그렇다면 한 친구가 이름을 출력하고자 한다면 어떤 코드로 친구 한명의 정보를 뽑아서\\n출력 할 수 있는지?\\n'"
      ]
     },
     "execution_count": 13,
     "metadata": {},
     "output_type": "execute_result"
    }
   ],
   "source": [
    "friends = {\"이서진\", \"오민영\", \"오준환\", \"이지빈\"}\n",
    "x = friends.pop()\n",
    "print(x)\n",
    "'''\n",
    "왜? 이 코드가 에러가 나는가?\n",
    "그렇다면 한 친구가 이름을 출력하고자 한다면 어떤 코드로 친구 한명의 정보를 뽑아서\n",
    "출력 할 수 있는지?\n",
    "'''"
   ]
  },
  {
   "cell_type": "code",
   "execution_count": 15,
   "metadata": {},
   "outputs": [
    {
     "name": "stdout",
     "output_type": "stream",
     "text": [
      "엄마\n"
     ]
    }
   ],
   "source": [
    "family = {'mom' : '정경혜', \"sister\" : '곽한기', 'mom' : '엄마'};\n",
    "print(family[\"mom\"])"
   ]
  }
 ],
 "metadata": {
  "kernelspec": {
   "display_name": "Python 3",
   "language": "python",
   "name": "python3"
  },
  "language_info": {
   "codemirror_mode": {
    "name": "ipython",
    "version": 3
   },
   "file_extension": ".py",
   "mimetype": "text/x-python",
   "name": "python",
   "nbconvert_exporter": "python",
   "pygments_lexer": "ipython3",
   "version": "3.7.1"
  }
 },
 "nbformat": 4,
 "nbformat_minor": 2
}
