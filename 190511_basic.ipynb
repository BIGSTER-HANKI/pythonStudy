{
 "cells": [
  {
   "cell_type": "code",
   "execution_count": 143,
   "metadata": {},
   "outputs": [],
   "source": [
    "'''\n",
    "사용자 정의 함수 개발\n",
    "2. 로직\n",
    "    - 최댓값\n",
    "        : 데이터 두개를 받아서 두개 비교후 더 큰수 변함\n",
    "    - 최소값\n",
    "        : 데이터 두개를 받아서 비교후 더 작은수 변환\n",
    "    -짝수? 홀수? 구하기\n",
    "        : 짝수일 경우 \"짝수\", 홀수인 경우 \"홀수\" 반환\n",
    "    - 팩토리얼(계승)\n",
    "        : 하나의 숫자를 받아서 팩토리얼 로직에 맞게 연산후 반환\n",
    "        : 1부터 어떤 양의 정수 n까지의 정수를 모두 곱한것\n",
    "        \n",
    "3. 총 3개의 함수명\n",
    "    1. 최댓값 : max()\n",
    "    2. 최솟값 : min()\n",
    "    3. 팩토리얼 : fartorial()\n",
    "    4. 짝홀 : evenOdd()\n",
    "'''\n",
    "def enenOdd(v):\n",
    "    if v % 2 == 0:\n",
    "        return \"짝수\"\n",
    "    else:\n",
    "        return \"홀수\""
   ]
  },
  {
   "cell_type": "code",
   "execution_count": 6,
   "metadata": {},
   "outputs": [
    {
     "name": "stdout",
     "output_type": "stream",
     "text": [
      "한글\n"
     ]
    }
   ],
   "source": [
    "#사용자 정의 함수 문법\n",
    "def max():\n",
    "    print('한글')\n",
    "max()"
   ]
  },
  {
   "cell_type": "code",
   "execution_count": 103,
   "metadata": {},
   "outputs": [
    {
     "name": "stdout",
     "output_type": "stream",
     "text": [
      "100\n"
     ]
    }
   ],
   "source": [
    "def max(v1, v2):\n",
    "    if v1 > v2:\n",
    "        return v1\n",
    "    else:\n",
    "        return v2\n",
    "\n",
    "\n",
    "print(max(100, 30))"
   ]
  },
  {
   "cell_type": "code",
   "execution_count": 127,
   "metadata": {},
   "outputs": [
    {
     "name": "stdout",
     "output_type": "stream",
     "text": [
      "30\n"
     ]
    }
   ],
   "source": [
    "def min(v1, v2):\n",
    "    if v1 > v2:\n",
    "        return v2\n",
    "    else:\n",
    "        return v1\n",
    "\n",
    "\n",
    "print(min(100, 30))"
   ]
  },
  {
   "cell_type": "code",
   "execution_count": 128,
   "metadata": {},
   "outputs": [
    {
     "name": "stdout",
     "output_type": "stream",
     "text": [
      "3.0\n"
     ]
    }
   ],
   "source": [
    "print(6/2)"
   ]
  }
 ],
 "metadata": {
  "kernelspec": {
   "display_name": "Python 3",
   "language": "python",
   "name": "python3"
  },
  "language_info": {
   "codemirror_mode": {
    "name": "ipython",
    "version": 3
   },
   "file_extension": ".py",
   "mimetype": "text/x-python",
   "name": "python",
   "nbconvert_exporter": "python",
   "pygments_lexer": "ipython3",
   "version": "3.7.1"
  }
 },
 "nbformat": 4,
 "nbformat_minor": 2
}
